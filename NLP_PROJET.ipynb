{
 "cells": [
  {
   "cell_type": "code",
   "execution_count": 1,
   "metadata": {
    "colab": {},
    "colab_type": "code",
    "id": "FJ5LQk2DDcYQ"
   },
   "outputs": [],
   "source": [
    "#Le code suivant se divise en 3 parties.\n",
    "# 1) Import et chargement des données\n",
    "# 2) Préparation des données\n",
    "# 3) création des modèles \n",
    "#\n",
    "#\n",
    "#\n",
    "#"
   ]
  },
  {
   "cell_type": "code",
   "execution_count": 2,
   "metadata": {},
   "outputs": [
    {
     "name": "stderr",
     "output_type": "stream",
     "text": [
      "Using TensorFlow backend.\n"
     ]
    },
    {
     "name": "stdout",
     "output_type": "stream",
     "text": [
      "Device mapping:\n",
      "/job:localhost/replica:0/task:0/device:GPU:0 -> device: 0, name: GeForce GTX 1070, pci bus id: 0000:08:00.0, compute capability: 6.1\n",
      "\n"
     ]
    }
   ],
   "source": [
    "#import\n",
    "import sys, os, re, csv, codecs, numpy as np, pandas as pd\n",
    "import matplotlib.pyplot as plt\n",
    "%matplotlib inline\n",
    "from keras.preprocessing.text import Tokenizer\n",
    "from keras.preprocessing.sequence import pad_sequences\n",
    "from keras.layers import Dense, Input, LSTM, Embedding, Dropout, Activation, Flatten\n",
    "from keras.layers import Bidirectional, GlobalMaxPool1D, Conv1D,MaxPooling1D\n",
    "from keras.models import Model\n",
    "from keras import initializers, regularizers, constraints, optimizers, layers\n",
    "from math import floor\n",
    "from matplotlib import pyplot as plt\n",
    "import pandas as pd\n",
    "from keras.models import model_from_json, load_model\n",
    "import json\n",
    "from pathlib import Path\n",
    "\n",
    "#utilisation du gpu\n",
    "import tensorflow as tf\n",
    "sess = tf.compat.v1.Session(config=tf.compat.v1.ConfigProto(log_device_placement=True))"
   ]
  },
  {
   "cell_type": "code",
   "execution_count": 3,
   "metadata": {
    "colab": {},
    "colab_type": "code",
    "id": "_WnJoxVuDcY7"
   },
   "outputs": [],
   "source": [
    "############################################## Chargement des données\n",
    "#import données\n",
    "commentaires_toxiques = pd.read_csv('data/commentaires_toxiques.csv')\n",
    "#visualisation données\n",
    "commentaires_toxiques.head()\n",
    "\n",
    "#des fichiers .h5 et json sont presents dans le dossier models afin de ne pas avoir a réentrainer les models\n",
    "#si vous voulez réentrainer les models, mettez CHARGEMENT_SAUVEGARDE = FALSE\n",
    "CHARGEMENT_SAUVEGARDE = True\n",
    "#Mettre sur true si vous souhaitez enregistrer les epochs du fit des differents models afin de les enregistrer dans un json\n",
    "ENREGISTREMENT_HISTORIQUE = True"
   ]
  },
  {
   "cell_type": "code",
   "execution_count": 4,
   "metadata": {
    "colab": {},
    "colab_type": "code",
    "id": "Ki8GOh7fDcZD",
    "outputId": "d3cbddcd-c909-4606-c1b3-b3261ca074ff"
   },
   "outputs": [
    {
     "name": "stdout",
     "output_type": "stream",
     "text": [
      "Size dataset:  159571\n",
      "Size entrainement:  127656\n",
      "Size test:  31915\n",
      "Test + entrainement = Dataset:  True\n",
      "\n",
      " \n",
      " \n",
      " Test si il y'a des valeurs nulles pour chaques colonnes\n"
     ]
    },
    {
     "data": {
      "text/plain": [
       "(id               False\n",
       " comment_text     False\n",
       " toxic            False\n",
       " severe_toxic     False\n",
       " obscene          False\n",
       " threat           False\n",
       " insult           False\n",
       " identity_hate    False\n",
       " dtype: bool,\n",
       " id               False\n",
       " comment_text     False\n",
       " toxic            False\n",
       " severe_toxic     False\n",
       " obscene          False\n",
       " threat           False\n",
       " insult           False\n",
       " identity_hate    False\n",
       " dtype: bool)"
      ]
     },
     "execution_count": 4,
     "metadata": {},
     "output_type": "execute_result"
    }
   ],
   "source": [
    "##############################################Préparation des données\n",
    "\n",
    "#separation test et train\n",
    "\n",
    "#variable entre 0 et 1 qui sépare le nombre de données en train et test\n",
    "percentageTestTrain = 0.8\n",
    "\n",
    "sepTestTrain = floor(len(commentaires_toxiques)*percentageTestTrain)\n",
    "train=commentaires_toxiques[0:sepTestTrain]\n",
    "test=commentaires_toxiques[sepTestTrain:len(commentaires_toxiques)]\n",
    "\n",
    "#verification que train+test = taille total du dataset\n",
    "print(\"Size dataset: \",len(commentaires_toxiques))\n",
    "print(\"Size entrainement: \",train.shape[0])\n",
    "print(\"Size test: \",test.shape[0])\n",
    "print(\"Test + entrainement = Dataset: \",(train.shape[0] + test.shape[0])== commentaires_toxiques.shape[0])\n",
    "\n",
    "#montre que le dataset ne possede pas de valeurs null (que nous devrions modifier dans ce cas)\n",
    "print(\"\\n \\n \\n Test si il y'a des valeurs nulles pour chaques colonnes\")\n",
    "train.isnull().any(),test.isnull().any()"
   ]
  },
  {
   "cell_type": "code",
   "execution_count": 5,
   "metadata": {
    "colab": {},
    "colab_type": "code",
    "id": "Rm2JNcJhDcZg",
    "outputId": "e12671dd-6892-41a9-b93e-4d4390b10bb0"
   },
   "outputs": [
    {
     "name": "stdout",
     "output_type": "stream",
     "text": [
      "Nom des colonnes du dataset ( 6 )\n",
      "id\n",
      "comment_text\n",
      "toxic\n",
      "severe_toxic\n",
      "obscene\n",
      "threat\n",
      "insult\n",
      "identity_hate\n",
      "\n",
      " \n",
      "Exemple de commentaire\n",
      "Explanation\n",
      "Why the edits made under my username Hardcore Metallica Fan were reverted? They weren't vandalisms, just closure on some GAs after I voted at New York Dolls FAC. And please don't remove the template from the talk page since I'm retired now.89.205.38.27\n"
     ]
    }
   ],
   "source": [
    "# création des classes\n",
    "list_classes = [\"toxic\", \"severe_toxic\", \"obscene\", \"threat\", \"insult\", \"identity_hate\"]\n",
    "\n",
    "# recupere les valeurs des features (0 ou 1 pour chaque style de toxicité)\n",
    "y_train = train[list_classes].values\n",
    "\n",
    "#recupere chaque texte\n",
    "list_sentences_train = train[\"comment_text\"]\n",
    "list_sentences_test = test[\"comment_text\"]\n",
    "print(\"Nom des colonnes du dataset (\", y_train.shape[1],\")\")\n",
    "[print(x) for x in train.columns]\n",
    "print(\"\\n \\nExemple de commentaire\")\n",
    "\n",
    "print(list_sentences_train[0])\n"
   ]
  },
  {
   "cell_type": "code",
   "execution_count": 6,
   "metadata": {
    "colab": {},
    "colab_type": "code",
    "id": "68m2cuPtDcZn"
   },
   "outputs": [
    {
     "name": "stdout",
     "output_type": "stream",
     "text": [
      "Exemple d'un commentaire après tokenization et indexing\n",
      " [675, 76, 1, 127, 130, 177, 29, 662, 4585, 12613, 1090, 86, 333, 51, 2291, 11081, 50, 6975, 15, 60, 2778, 146, 7, 2952, 34, 116, 1205, 14350, 2766, 4, 45, 59, 245, 1, 377, 32, 1, 37, 27, 144, 74, 3619, 89, 3010, 4417, 2180, 1003] \n",
      " \n",
      "\n",
      "10 premiers mots et index\n",
      "1 : the\n",
      "2 : to\n",
      "3 : of\n",
      "4 : and\n",
      "5 : a\n",
      "6 : you\n",
      "7 : i\n",
      "8 : is\n",
      "9 : that\n",
      "\n",
      "On cherche le mot associé à la valeur 44\n",
      "44 : will\n",
      "\n",
      "On cherche lindex associé à why\n",
      "76\n"
     ]
    }
   ],
   "source": [
    "#tokenization -> \"I love cats and love dogs\" will become [\"I\",\"love\",\"cats\",\"and\",\"dogs\"]\n",
    "#Indexing -> 1:\"I\",2:\"love\",3:\"cats\",4:\"and\",5:\"dogs\"\n",
    "#Index Representation -> represent the sequence of words in the comments in the form of index, and feed this chain of index into our LSTM. [1,2,3,4,2,5]\n",
    "\n",
    "#nombre max de mot unique dans le dictionnaire\n",
    "max_features = 20000\n",
    "tokenizer = Tokenizer(num_words=max_features)\n",
    "tokenizer.fit_on_texts(list(list_sentences_train))\n",
    "list_tokenized_train = tokenizer.texts_to_sequences(list_sentences_train)\n",
    "list_tokenized_test = tokenizer.texts_to_sequences(list_sentences_test)\n",
    "\n",
    "\n",
    "# visualisation\n",
    "# affichage les 10 premieres keys + values et de chercher \n",
    "# a partir d'une value ou d'une key\n",
    "\n",
    "#maintenant les mots sont devenus des representations d'index\n",
    "#affiche une ligne tokenizé\n",
    "\n",
    "print(\"Exemple d'un commentaire après tokenization et indexing\\n\",list_tokenized_train[0],\"\\n \\n\")\n",
    "\n",
    "word_index = tokenizer.word_index\n",
    "itemsList = word_index.items()\n",
    "\n",
    "#affiche les 10 premieres keys + values (items)\n",
    "print(\"10 premiers mots et index\")\n",
    "for i in range(1,10):\n",
    "    for item in itemsList:\n",
    "        if item[1] == i:\n",
    "            print(item[1], \":\" , item[0])\n",
    "\n",
    "#search from values\n",
    "print(\"\\nOn cherche le mot associé à la valeur 44\")\n",
    "for item in itemsList:\n",
    "        if item[1] == 44:\n",
    "            print(item[1], \":\" , item[0])\n",
    "print(\"\\nOn cherche lindex associé à why\")\n",
    "#search from keys\n",
    "if 'why' in word_index:\n",
    "        print(word_index['why'])"
   ]
  },
  {
   "cell_type": "code",
   "execution_count": 7,
   "metadata": {
    "colab": {},
    "colab_type": "code",
    "id": "AStwqLoODcZ9"
   },
   "outputs": [],
   "source": [
    "#ce code a été commenté car l'output est très long\n",
    "#voir les occurences des mots\n",
    "#tokenizer.word_counts\n",
    "#voir les indexs des mots\n",
    "#tokenizer.word_index"
   ]
  },
  {
   "cell_type": "code",
   "execution_count": 8,
   "metadata": {
    "colab": {},
    "colab_type": "code",
    "id": "14GVCrUHDcaJ"
   },
   "outputs": [
    {
     "name": "stdout",
     "output_type": "stream",
     "text": [
      "[47, 17, 42, 114, 13, 11, 8, 19, 84, 11]\n"
     ]
    },
    {
     "data": {
      "image/png": "[encoded data removed]",
      "text/plain": [
       "<Figure size 432x288 with 1 Axes>"
      ]
     },
     "metadata": {
      "needs_background": "light"
     },
     "output_type": "display_data"
    },
    {
     "name": "stdout",
     "output_type": "stream",
     "text": [
      "36.7% des textes ont une taille supérieur à 50\n"
     ]
    }
   ],
   "source": [
    "maxlen = 200\n",
    "#remplis le texte de rien si jamais un texte est trop court\n",
    "X_t = pad_sequences(list_tokenized_train, maxlen=maxlen)\n",
    "X_te = pad_sequences(list_tokenized_test, maxlen=maxlen)\n",
    "\n",
    "#permet de voir la taille moyenne des commentaires pour modifier la variable maxlen\n",
    "def affichage_taille_moyenne(list_tokenized_train):\n",
    "    totalNumWords = [len(one_comment) for one_comment in list_tokenized_train]\n",
    "    print(totalNumWords[0:10])\n",
    "    plt.hist(totalNumWords,bins = np.arange(0,500,10))#[0,50,100,150,200,250,300,350,400])#,450,500,550,600,650,700,750,800,850,900])\n",
    "    plt.show()\n",
    "    return totalNumWords\n",
    "    \n",
    "totalNumWords = affichage_taille_moyenne(list_tokenized_train)\n",
    "\n",
    "\n",
    "\n",
    "\n",
    "#juste un test pour voir le nombre de texte dont la taille est > a NB_BETTER\n",
    "#si ya un moyen plus simple jsuis chaud\n",
    "def nb_better_than(totalNumWords, NB_BETTER):\n",
    "    #NB_BETTER = 40\n",
    "    numberbetterthanNB_BETTER = [1 if total > NB_BETTER else 0 for total in totalNumWords]\n",
    "    #print(len(numberbetterthanNB_BETTER))\n",
    "    #print(numberbetterthanNB_BETTER.count(1))\n",
    "    print(f\"{round(numberbetterthanNB_BETTER.count(1)/len(totalNumWords)*100, 1)}% des textes ont une taille supérieur à {NB_BETTER}\")\n",
    "    \n",
    "nb_better_than(totalNumWords, 50)"
   ]
  },
  {
   "cell_type": "code",
   "execution_count": 9,
   "metadata": {},
   "outputs": [],
   "source": [
    "#fonction qui sauvegarde un model en .h5 et .json dans le fichier models\n",
    "def sauvegarde(model, nom_model):\n",
    "    model_json = model.to_json()\n",
    "    with open(\"models/\"+str(nom_model)+\".json\", \"w\") as json_file:\n",
    "        json_file.write(model_json)\n",
    "    # serialize weights to HDF5\n",
    "    model.save_weights(\"models/\"+str(nom_model)+\".h5\")\n",
    "    \n",
    "\n",
    "\n",
    "#fonction qui charge un model a partir du .json et du .h5\n",
    "#il faut lui donner un string correspondant au nom du model sauvegarde\n",
    "#retourne le model\n",
    "def chargement_model(nom_model):\n",
    "    # load json and create model\n",
    "    json_file = open(\"models/\"+str(nom_model)+\".json\", 'r')\n",
    "    loaded_model_json = json_file.read()\n",
    "    json_file.close()\n",
    "    loaded_model = model_from_json(loaded_model_json)\n",
    "    # load weights \n",
    "    loaded_model.load_weights(\"models/\"+str(nom_model)+\".h5\")\n",
    "    return loaded_model\n",
    "\n",
    "\n",
    "#fonction qui va entrainer en model en entree avec le nomre d'epochs ecrit en entree\n",
    "#retourne le model et l'historique des epochs\n",
    "def entrainement_model(model,epochs):\n",
    "    batch_size = 32\n",
    "    #epochs = 5\n",
    "    history_model = model.fit(X_t,y_train, batch_size=batch_size, epochs=epochs, validation_split=0.1)\n",
    "    return model, history_model\n",
    "\n",
    "#fonction qui sauvegarde l'historique des epochs quand un model s'entraine dans un fichier .json afin de réutiliser ces données\n",
    "#sans avoir à réentrainer le model\n",
    "def sauvegarde_historique(history_model, nom_model):\n",
    "        hist_df = pd.DataFrame(history_model.history) \n",
    "        hist_json_file = 'models/history_'+nom_model+'.json' \n",
    "        with open(hist_json_file, mode='w') as f:\n",
    "            hist_df.to_json(f)"
   ]
  },
  {
   "cell_type": "code",
   "execution_count": 10,
   "metadata": {},
   "outputs": [],
   "source": [
    "################################# Création de différents modéles"
   ]
  },
  {
   "cell_type": "code",
   "execution_count": 11,
   "metadata": {
    "colab": {},
    "colab_type": "code",
    "id": "rc3WKYbJDcaj",
    "outputId": "7c486c2e-17f9-4889-818a-ebb0805ace8b"
   },
   "outputs": [
    {
     "name": "stdout",
     "output_type": "stream",
     "text": [
      "Le model a bien été chargé\n",
      "<keras.engine.training.Model object at 0x00000291459E0388>\n"
     ]
    }
   ],
   "source": [
    "#model super simple pour commencer:\n",
    "#vu le temps élevé necessaire pour faire le model il est possible de load directement les models stockes dans models/\n",
    "\n",
    "def create_model_simple():\n",
    "    inp_simple = Input(shape=(maxlen, ))\n",
    "    embed_size = 128\n",
    "    x_simple = Embedding(max_features, embed_size)(inp_simple)\n",
    "    x_simple = Flatten()(x_simple)\n",
    "    x_simple = Dense(units=500, activation='relu')(x_simple)\n",
    "    x_simple = Dense(units=6, activation='sigmoid')(x_simple)\n",
    "\n",
    "    model_simple = Model(inputs=inp_simple, outputs=x_simple)\n",
    "    model_simple.compile(loss='binary_crossentropy', optimizer='adam', metrics=['accuracy'])\n",
    "    print(model_simple.summary())\n",
    "    return model_simple\n",
    "\n",
    "#crée le model simple\n",
    "#si CHARGEMENT_SAUVEGARDE == False, entraine le model de nouveau sinon va chercher le fichier poids et json correspondant dans models/\n",
    "def creation_entrainement_simple():\n",
    "    if CHARGEMENT_SAUVEGARDE == False:\n",
    "        #creation du model\n",
    "        model_simple = create_model_simple()\n",
    "\n",
    "        #fit du model et enregistrement de l'historique\n",
    "        model_simple, history_model_simple = entrainement_model(model_simple,2)\n",
    "        #sauvegarde du model en json et .h5\n",
    "        sauvegarde(model_simple, \"model_simple\")\n",
    "        \n",
    "        #enregistrement des epochs dans un json pour pouvoir les reutiliser sans avoir a reentrainer le model\n",
    "        if ENREGISTREMENT_HISTORIQUE == True:\n",
    "            sauvegarde_historique(history_model_simple, \"model_simple\")\n",
    "\n",
    "    else:\n",
    "        model_simple = chargement_model(\"model_simple\")\n",
    "        print(\"Le model a bien été chargé\")\n",
    "        print(model_simple)\n",
    "    return model_simple\n",
    "\n",
    "model_simple = creation_entrainement_simple()"
   ]
  },
  {
   "cell_type": "code",
   "execution_count": 12,
   "metadata": {
    "colab": {},
    "colab_type": "code",
    "id": "H3qy88qiDcar",
    "outputId": "a61322a0-07c6-4c8d-b508-629781d073df"
   },
   "outputs": [
    {
     "name": "stdout",
     "output_type": "stream",
     "text": [
      "Le model a bien été chargé\n",
      "<keras.engine.training.Model object at 0x0000029169B56848>\n"
     ]
    }
   ],
   "source": [
    "#Convolutional Neutral Network\n",
    "def create_model_cnn():\n",
    "    inp_cnn = Input(shape=(maxlen, ))\n",
    "    embed_size = 128\n",
    "    x_cnn = Embedding(max_features, embed_size)(inp_cnn)\n",
    "    x_cnn = Conv1D(60, 5, activation='relu')(x_cnn)\n",
    "    x_cnn = MaxPooling1D(5)(x_cnn)\n",
    "    x_cnn = Flatten()(x_cnn)\n",
    "    x_cnn = Dense(units=50, activation='relu')(x_cnn)\n",
    "    x_cnn = Dense(units=6, activation='sigmoid')(x_cnn)\n",
    "\n",
    "    model_cnn = Model(inputs=inp_cnn, outputs=x_cnn)\n",
    "    model_cnn.compile(loss='binary_crossentropy', optimizer='adam', metrics=['accuracy'])\n",
    "    print(model_cnn.summary())\n",
    "    return model_cnn\n",
    "\n",
    "def creation_entrainement_cnn():\n",
    "    if CHARGEMENT_SAUVEGARDE == False:\n",
    "        #creation du model\n",
    "        model_cnn = create_model_cnn()\n",
    "\n",
    "        #fit du model et enregistrement de l'historique\n",
    "        model_cnn, history_model_cnn = entrainement_model(model_cnn,2)\n",
    "\n",
    "        #sauvegarde du model en json et .h5\n",
    "        sauvegarde(model_cnn, \"model_cnn\")\n",
    "        \n",
    "        #enregistrement des epochs dans un json pour pouvoir les reutiliser sans avoir a reentrainer le model\n",
    "        if ENREGISTREMENT_HISTORIQUE == True:\n",
    "            sauvegarde_historique(history_model_cnn, \"model_cnn\")\n",
    "    else:\n",
    "        model_cnn = chargement_model(\"model_cnn\")\n",
    "        print(\"Le model a bien été chargé\")\n",
    "        print(model_cnn)\n",
    "        return model_cnn\n",
    "    \n",
    "model_cnn = creation_entrainement_cnn()"
   ]
  },
  {
   "cell_type": "code",
   "execution_count": 13,
   "metadata": {
    "colab": {},
    "colab_type": "code",
    "id": "ZITNI-InDca4"
   },
   "outputs": [
    {
     "name": "stdout",
     "output_type": "stream",
     "text": [
      "Le model a bien été chargé\n",
      "<keras.engine.training.Model object at 0x0000029169B8A948>\n"
     ]
    }
   ],
   "source": [
    "#creation du modele\n",
    "#ici on utilise LSTM\n",
    "def create_model_lstm():\n",
    "    inp_lstm = Input(shape=(maxlen, )) #maxlen=200 comme defini plus tot\n",
    "    embed_size = 128\n",
    "    x_lstm = Embedding(max_features, embed_size)(inp_lstm)\n",
    "    x_lstm = LSTM(60, return_sequences=True,name='lstm_layer')(x_lstm)\n",
    "    x_lstm = GlobalMaxPool1D()(x_lstm)\n",
    "    x_lstm = Dropout(0.1)(x_lstm)\n",
    "    x_lstm = Dense(50, activation=\"relu\")(x_lstm)\n",
    "    x_lstm = Dropout(0.1)(x_lstm)\n",
    "    x_lstm = Dense(6, activation=\"sigmoid\")(x_lstm)\n",
    "    #compilation\n",
    "    model_lstm = Model(inputs=inp_lstm, outputs=x_lstm)\n",
    "    model_lstm.compile(loss='binary_crossentropy',optimizer='adam',metrics=['accuracy'])\n",
    "    model_lstm.summary()\n",
    "    return model_lstm\n",
    "\n",
    "def creation_entrainement_lstm():\n",
    "    if CHARGEMENT_SAUVEGARDE == False:\n",
    "        #creation du model\n",
    "        model_lstm = create_model_lstm()\n",
    "\n",
    "        #fit du model et enregistrement de l'historique\n",
    "        model_lstm, history_model_lstm = entrainement_model(model_lstm,2)\n",
    "\n",
    "        #sauvegarde du model en json et .h5\n",
    "        sauvegarde(model_lstm, \"model_lstm\")\n",
    "        \n",
    "        #enregistrement des epochs dans un json pour pouvoir les reutiliser sans avoir a reentrainer le model\n",
    "        if ENREGISTREMENT_HISTORIQUE == True:\n",
    "            sauvegarde_historique(history_model_lstm, \"model_lstm\")\n",
    "    else:\n",
    "        model_lstm = chargement_model(\"model_lstm\")\n",
    "        print(\"Le model a bien été chargé\")\n",
    "        print(model_lstm)\n",
    "    return model_lstm\n",
    "\n",
    "model_lstm = creation_entrainement_lstm()"
   ]
  },
  {
   "cell_type": "code",
   "execution_count": 14,
   "metadata": {
    "colab": {},
    "colab_type": "code",
    "id": "1F9jw-P_DcbK",
    "outputId": "b18e5407-1014-4645-9762-38057e4ab133"
   },
   "outputs": [],
   "source": [
    "from numpy import zeros, asarray\n",
    "\n",
    "def chargement_glove(tokenizer):\n",
    "    vocab_size = len(tokenizer.word_index) + 1\n",
    "\n",
    "    # load the whole embedding into memory\n",
    "    # a telecharger sur https://nlp.stanford.edu/projects/glove/ et unzip \"glove.6B.100d.txt\" dans le fichier embeddings qui est a creer si non existantt\n",
    "    embeddings_index = dict()\n",
    "    f = open('embeddings/glove.6B.100d.txt', encoding='utf-8')\n",
    "    for line in f:\n",
    "        values = line.split()\n",
    "        word = values[0]\n",
    "        coefs = asarray(values[1:], dtype='float32')\n",
    "        embeddings_index[word] = coefs\n",
    "    f.close()\n",
    "    print('Loaded %s word vectors.' % len(embeddings_index))\n",
    "\n",
    "\n",
    "    # create a weight matrix for words in training docs\n",
    "    embedding_matrix = zeros((vocab_size, 100))\n",
    "    for word, i in tokenizer.word_index.items():\n",
    "        embedding_vector = embeddings_index.get(word)\n",
    "        if embedding_vector is not None:\n",
    "            embedding_matrix[i] = embedding_vector\n",
    "\n",
    "    print(\"Done\")\n",
    "    return embedding_matrix\n"
   ]
  },
  {
   "cell_type": "code",
   "execution_count": 15,
   "metadata": {
    "colab": {
     "base_uri": "https://localhost:8080/",
     "height": 243
    },
    "colab_type": "code",
    "id": "g_IRfNOjDcbV",
    "outputId": "37439c0c-9ccc-4bd0-ba7e-3f04ef69935f"
   },
   "outputs": [
    {
     "name": "stdout",
     "output_type": "stream",
     "text": [
      "Le model a bien été chargé\n",
      "<keras.engine.training.Model object at 0x0000029169C83608>\n"
     ]
    }
   ],
   "source": [
    "def create_model_glove():\n",
    "    embedding_matrix = chargement_glove(tokenizer)\n",
    "    #model avec embedding glove/word2vec\n",
    "    inp_glove = Input(shape=(maxlen, )) #maxlen=200 comme defini plus tot \n",
    "    embed_size = 100\n",
    "    x_glove = Embedding(max_features, embed_size, weights=[embedding_matrix[:max_features]], trainable=False)(inp_glove)\n",
    "    # we do not want to update the learned word weights in this model\n",
    "    x_glove = LSTM(60, return_sequences=True,name='lstm_layer')(x_glove)\n",
    "    x_glove = GlobalMaxPool1D()(x_glove)\n",
    "    x_glove = Dropout(0.1)(x_glove)\n",
    "    x_glove = Dense(50, activation=\"relu\")(x_glove)\n",
    "    x_glove = Dropout(0.1)(x_glove)\n",
    "    x_glove = Dense(6, activation=\"sigmoid\")(x_glove)\n",
    "\n",
    "    model_glove = Model(inputs=inp_glove, outputs=x_glove)\n",
    "    model_glove.compile(loss='binary_crossentropy',\n",
    "                      optimizer='adam',\n",
    "                      metrics=['accuracy'])\n",
    "    model_glove.summary()\n",
    "    return model_glove\n",
    "\n",
    "def creation_entrainement_glove():\n",
    "    if CHARGEMENT_SAUVEGARDE == False:\n",
    "        #creation du model\n",
    "        model_glove = create_model_glove()\n",
    "\n",
    "        #fit du model et enregistrement de l'historique\n",
    "        model_glove, history_model_glove = entrainement_model(model_glove,2)\n",
    "\n",
    "        #sauvegarde du model en json et .h5\n",
    "        sauvegarde(model_glove, \"model_glove\")\n",
    "        \n",
    "        #enregistrement des epochs dans un json pour pouvoir les reutiliser sans avoir a reentrainer le model\n",
    "        if ENREGISTREMENT_HISTORIQUE == True:\n",
    "            sauvegarde_historique(history_model_glove, \"model_glove\")\n",
    "    else:\n",
    "        model_glove = chargement_model(\"model_glove\")\n",
    "        print(\"Le model a bien été chargé\")\n",
    "        print(model_glove)\n",
    "    return model_glove\n",
    "\n",
    "model_glove = creation_entrainement_glove()"
   ]
  },
  {
   "cell_type": "code",
   "execution_count": 16,
   "metadata": {},
   "outputs": [
    {
     "data": {
      "image/png": "[encoded data removed]",
      "text/plain": [
       "<Figure size 432x288 with 1 Axes>"
      ]
     },
     "metadata": {
      "needs_background": "light"
     },
     "output_type": "display_data"
    },
    {
     "data": {
      "image/png": "[encoded data removed]",
      "text/plain": [
       "<Figure size 432x288 with 1 Axes>"
      ]
     },
     "metadata": {
      "needs_background": "light"
     },
     "output_type": "display_data"
    },
    {
     "data": {
      "image/png": "[encoded data removed]",
      "text/plain": [
       "<Figure size 432x288 with 1 Axes>"
      ]
     },
     "metadata": {
      "needs_background": "light"
     },
     "output_type": "display_data"
    },
    {
     "data": {
      "image/png": "[encoded data removed]",
      "text/plain": [
       "<Figure size 432x288 with 1 Axes>"
      ]
     },
     "metadata": {
      "needs_background": "light"
     },
     "output_type": "display_data"
    },
    {
     "data": {
      "image/png": "[encoded data removed]",
      "text/plain": [
       "<Figure size 432x288 with 1 Axes>"
      ]
     },
     "metadata": {
      "needs_background": "light"
     },
     "output_type": "display_data"
    },
    {
     "data": {
      "image/png": "[encoded data removed]",
      "text/plain": [
       "<Figure size 432x288 with 1 Axes>"
      ]
     },
     "metadata": {
      "needs_background": "light"
     },
     "output_type": "display_data"
    },
    {
     "data": {
      "image/png": "[encoded data removed]",
      "text/plain": [
       "<Figure size 432x288 with 1 Axes>"
      ]
     },
     "metadata": {
      "needs_background": "light"
     },
     "output_type": "display_data"
    },
    {
     "data": {
      "image/png": "[encoded data removed]",
      "text/plain": [
       "<Figure size 432x288 with 1 Axes>"
      ]
     },
     "metadata": {
      "needs_background": "light"
     },
     "output_type": "display_data"
    }
   ],
   "source": [
    "#visualisation\n",
    "#plot de la precision du model en entree\n",
    "#plot de la loss du model en entree\n",
    "#peut etre a montrer pour expliquer pourquoi il n'est pas utile de faire plus de 2 epochs\n",
    "\n",
    "#acc is the accuracy of a batch of training data and val_acc is the accuracy of a batch of testing data.\n",
    "#val_acc is the accuracy computed on the validation set (data that have never been 'seen' by the model). \n",
    "\n",
    "#val_loss is the value of cost function for your cross-validation data and loss is the value of cost function \n",
    "#for your training data.\n",
    "\n",
    "\n",
    "def visualisation2(nom_model):\n",
    "    my_file = Path(\"models/history_\"+str(nom_model)+\".json\")\n",
    "    if my_file.is_file():\n",
    "        with open(\"models/history_\"+str(nom_model)+\".json\", 'r') as json_file:\n",
    "            history_model = json.load(json_file)\n",
    "#             print(history_model_simple2['accuracy'])    \n",
    "#             print(list(history_model_simple2['accuracy'].values()))\n",
    "#             print(history_model_simple.history['accuracy'])\n",
    "\n",
    "        plt.plot(list(history_model['accuracy'].values()))\n",
    "        plt.plot(list(history_model['val_accuracy'].values()))\n",
    "        plt.title('Precision du '+nom_model)\n",
    "        plt.ylabel('accuracy')\n",
    "        plt.xlabel('epoch')\n",
    "        plt.legend(['train', 'validation'], loc='upper left')\n",
    "        plt.show()\n",
    "\n",
    "        plt.plot(list(history_model['loss'].values()))\n",
    "        plt.plot(list(history_model['val_loss'].values()))\n",
    "        plt.title('Perte du '+nom_model)\n",
    "        plt.ylabel('loss')\n",
    "        plt.xlabel('epoch')\n",
    "        plt.legend(['train', 'val'], loc='upper left')\n",
    "        plt.show()\n",
    "    else:\n",
    "        print(\"pas de fichier historique existant pour ce nom de model\")\n",
    "\n",
    "def visualisation_epoch_models(nom_list_models):\n",
    "    for nom_model in nom_list_models:\n",
    "        visualisation2(nom_model)\n",
    "\n",
    "visualisation_epoch_models([\"model_simple\", \"model_cnn\", \"model_lstm\", \"model_glove\"])\n",
    "\n"
   ]
  },
  {
   "cell_type": "code",
   "execution_count": 17,
   "metadata": {
    "colab": {},
    "colab_type": "code",
    "id": "wp6xiuClDcbm",
    "outputId": "1a553f30-4e80-4d9a-fe09-4f4b940d562b"
   },
   "outputs": [
    {
     "name": "stdout",
     "output_type": "stream",
     "text": [
      "Voici le résultat pour le texte suivant:  really nigga? avec le model suivant: model simple\n",
      "toxic : 0.877\n",
      "severe_toxic : 0.018\n",
      "obscene : 0.101\n",
      "threat : 0.006\n",
      "insult : 0.463\n",
      "identity_hate : 0.579\n",
      "Voici le résultat pour le texte suivant:  really nigga? avec le model suivant: model cnn\n",
      "toxic : 0.223\n",
      "severe_toxic : 0.005\n",
      "obscene : 0.055\n",
      "threat : 0.01\n",
      "insult : 0.062\n",
      "identity_hate : 0.014\n",
      "Voici le résultat pour le texte suivant:  really nigga? avec le model suivant: model lstm\n",
      "toxic : 0.758\n",
      "severe_toxic : 0.015\n",
      "obscene : 0.279\n",
      "threat : 0.018\n",
      "insult : 0.297\n",
      "identity_hate : 0.054\n",
      "Voici le résultat pour le texte suivant:  really nigga? avec le model suivant: model glove\n",
      "toxic : 0.9\n",
      "severe_toxic : 0.063\n",
      "obscene : 0.769\n",
      "threat : 0.026\n",
      "insult : 0.44\n",
      "identity_hate : 0.033\n"
     ]
    }
   ],
   "source": [
    "#test sur une phrase\n",
    "#fonction qui test sur tout les modeles une phrase ecrite en entree        \n",
    "def prediction_phrase_all_models(phrase):\n",
    "    tokens = tokenizer.texts_to_sequences([phrase])\n",
    "    X_tokens = pad_sequences(tokens, maxlen=maxlen)\n",
    "    list_models =[model_simple, model_cnn, model_lstm, model_glove]\n",
    "    #list_models =[model_simple]\n",
    "    list_models_nom=[\"model simple\", \"model cnn\", \"model lstm\", \"model glove\"]\n",
    "    #list_models_nom=[\"model simple\"]\n",
    "\n",
    "    for model in range(len(list_models)):\n",
    "        print(\"Voici le résultat pour le texte suivant: \",phrase, \"avec le model suivant:\", list_models_nom[model])\n",
    "        res_pred = list_models[model].predict(np.array(X_tokens))\n",
    "        for i in range(len(list_classes)):\n",
    "            print(list_classes[i],\":\",round(res_pred[0][i],3))\n",
    "\n",
    "prediction_phrase_all_models(\"really nigga?\")\n",
    "\n",
    "\n",
    "\n"
   ]
  },
  {
   "cell_type": "code",
   "execution_count": 18,
   "metadata": {},
   "outputs": [
    {
     "name": "stdout",
     "output_type": "stream",
     "text": [
      "Voici le résultat pour le texte suivant:  really niggaa avec le model suivant: model_cnn\n",
      "toxic : 0.267\n",
      "severe_toxic : 0.008\n",
      "obscene : 0.068\n",
      "threat : 0.014\n",
      "insult : 0.079\n",
      "identity_hate : 0.019\n"
     ]
    }
   ],
   "source": [
    "def prediction_phrase_un_seul_model(phrase, model, nom_model):\n",
    "    tokens = tokenizer.texts_to_sequences([phrase])\n",
    "    X_tokens = pad_sequences(tokens, maxlen=maxlen)\n",
    "\n",
    "    print(\"Voici le résultat pour le texte suivant: \",phrase, \"avec le model suivant:\", nom_model)\n",
    "    res_pred = model.predict(np.array(X_tokens))\n",
    "    dict_proba_toxic={}\n",
    "    #proba_toxic=[]\n",
    "    for i in range(len(list_classes)):\n",
    "        print(list_classes[i],\":\",round(res_pred[0][i],3))\n",
    "        #proba_toxic.append(round(res_pred[0][i],3))\n",
    "        dict_proba_toxic[list_classes[i]] = round(res_pred[0][i],3)\n",
    "    return dict_proba_toxic   \n",
    "\n",
    "dict_proba_toxic = prediction_phrase_un_seul_model(\"really niggaa\", model_cnn, \"model_cnn\")\n"
   ]
  },
  {
   "cell_type": "code",
   "execution_count": 23,
   "metadata": {},
   "outputs": [],
   "source": [
    "def prediction_phrase_model_visualisation():\n",
    "    phrase = value.get()\n",
    "    tokens = tokenizer.texts_to_sequences([phrase])\n",
    "    X_tokens = pad_sequences(tokens, maxlen=maxlen)\n",
    "    if value2.get() == \"model_simple\":\n",
    "        model = model_simple\n",
    "    elif value2.get() == \"model_cnn\":\n",
    "        model = model_cnn\n",
    "    elif value2.get() == \"model_lstm\":\n",
    "        model = model_lstm\n",
    "    elif value2.get() == \"model_glove\":\n",
    "        model = model_glove\n",
    "    else:\n",
    "        pass\n",
    "    print(\"Voici le résultat pour le texte suivant: \",phrase, \"avec le model suivant:\", value2.get())\n",
    "    res_pred = model.predict(np.array(X_tokens))\n",
    "    dict_proba_toxic={}\n",
    "    #proba_toxic=[]\n",
    "    for i in range(len(list_classes)):\n",
    "        print(list_classes[i],\":\",round(res_pred[0][i],3))\n",
    "        #proba_toxic.append(round(res_pred[0][i],3))\n",
    "        dict_proba_toxic[list_classes[i]] = round(res_pred[0][i],3)\n",
    "        \n",
    "    \n",
    "    frame2 = Frame(window, background='#D2CAEC', relief=SUNKEN, bd=1)\n",
    "    frame2.grid(row=5,pady=(20,10))\n",
    "    \n",
    "    toxic = dict_proba_toxic['toxic']\n",
    "    var_toxic = StringVar()\n",
    "    var_toxic.set(toxic)\n",
    "    severe_toxic = dict_proba_toxic['severe_toxic']\n",
    "    var_severe_toxic = StringVar()\n",
    "    var_severe_toxic.set(severe_toxic)\n",
    "    obscene = dict_proba_toxic['obscene']\n",
    "    var_obscene = StringVar()\n",
    "    var_obscene.set(obscene)\n",
    "    threat = dict_proba_toxic['threat']\n",
    "    var_threat = StringVar()\n",
    "    var_threat.set(threat)\n",
    "    insult = dict_proba_toxic['insult']\n",
    "    var_insult = StringVar()\n",
    "    var_insult.set(insult)\n",
    "    identity_hate = dict_proba_toxic['identity_hate']\n",
    "    var_identity_hate = StringVar()\n",
    "    var_identity_hate.set(identity_hate)\n",
    "    \n",
    "    list_classes1 = [\"toxic\", \"severe_toxic\", \"obscene\", \"threat\", \"insult\", \"identity_hate\"]\n",
    "    for class1 in range(1,len(list_classes1)+1):\n",
    "        label_class = Label(frame2, text=list_classes1[class1-1], background='#D2CAEC', relief=SUNKEN, bd=1, width=10)\n",
    "        label_class.grid(row=1,column=class1)\n",
    "    label_toxic = Label(frame2, textvariable=var_toxic, background='#D2CAEC', relief=SUNKEN, bd=1, width=10)\n",
    "    label_toxic.grid(row=2,column=1)\n",
    "    label_severe_toxic = Label(frame2, textvariable=var_severe_toxic, background='#D2CAEC', relief=SUNKEN, bd=1, width=10)\n",
    "    label_severe_toxic.grid(row=2,column=2)\n",
    "    label_obscene = Label(frame2, textvariable=var_obscene, background='#D2CAEC', relief=SUNKEN, bd=1, width=10)\n",
    "    label_obscene.grid(row=2,column=3)\n",
    "    label_threat = Label(frame2, textvariable=var_threat, background='#D2CAEC', relief=SUNKEN, bd=1, width=10)\n",
    "    label_threat.grid(row=2,column=4)\n",
    "    label_insult = Label(frame2, textvariable=var_insult, background='#D2CAEC', relief=SUNKEN, bd=1, width=10)\n",
    "    label_insult.grid(row=2,column=5)\n",
    "    label_identity_hate = Label(frame2, textvariable=var_identity_hate, background='#D2CAEC', relief=SUNKEN, bd=1, width=10)\n",
    "    label_identity_hate.grid(row=2,column=6)\n",
    "  "
   ]
  },
  {
   "cell_type": "code",
   "execution_count": 24,
   "metadata": {
    "colab": {},
    "colab_type": "code",
    "id": "dkwhBMSgDcbr",
    "outputId": "f8b577c8-674e-4dff-b40e-cbe5dddb99d3"
   },
   "outputs": [],
   "source": [
    "#a completer a refaire vu la modif de la gestion de lhistorique\n",
    "# list_history_models =[history_model_simple, history_model_cnn, history_model_lstm, history_model_glove]\n",
    "# for history_model in range(len(list_history_models)):\n",
    "#     print(list_history_models[history_model].history['val_accuracy'])"
   ]
  },
  {
   "cell_type": "code",
   "execution_count": null,
   "metadata": {},
   "outputs": [
    {
     "name": "stdout",
     "output_type": "stream",
     "text": [
      "Voici le résultat pour le texte suivant:  wanna fight with me faggot? avec le model suivant: model_cnn\n",
      "toxic : 0.14\n",
      "severe_toxic : 0.002\n",
      "obscene : 0.028\n",
      "threat : 0.004\n",
      "insult : 0.024\n",
      "identity_hate : 0.005\n",
      "Voici le résultat pour le texte suivant:  wanna fight with me faggot? avec le model suivant: model_lstm\n",
      "toxic : 0.988\n",
      "severe_toxic : 0.123\n",
      "obscene : 0.939\n",
      "threat : 0.016\n",
      "insult : 0.679\n",
      "identity_hate : 0.082\n",
      "Voici le résultat pour le texte suivant:  wanna fight with me faggot? avec le model suivant: model_simple\n",
      "toxic : 0.968\n",
      "severe_toxic : 0.019\n",
      "obscene : 0.567\n",
      "threat : 0.003\n",
      "insult : 0.529\n",
      "identity_hate : 0.076\n"
     ]
    }
   ],
   "source": [
    "from tkinter import *\n",
    "import string\n",
    "\n",
    "window = Tk()\n",
    "window.title(\"Toxicity Dectector\")\n",
    "window.geometry(\"480x360\")\n",
    "window.minsize(480, 360)\n",
    "window.maxsize(480, 360)\n",
    "#window.iconbitmap(\"714043.svg.ico\")\n",
    "window.config(background='#D2CAEC')\n",
    "\n",
    "label_nb_place = Label(window, text=\"Welcome to the toxicity detector\", background='#D2CAEC',font=('Arial', 14))\n",
    "label_nb_place.grid(row=0,pady=(10,0))\n",
    "label_phrase = Label(window, text=\"Please write below the sentence for which you want to determine the type of toxicity\", background='#D2CAEC',font=('Arial', 8))\n",
    "label_phrase.grid(row=1,pady=(30,0))\n",
    "value = StringVar() \n",
    "value.set(\"wanna fight with me faggot?\")\n",
    "entree = Entry(window, textvariable=value, width=(50))\n",
    "entree.grid(row=2,pady=(5,0))\n",
    "\n",
    "\n",
    "bouton=Button(window, text=\"Start\", command= lambda: prediction_phrase_model_visualisation())\n",
    "bouton.grid(row=4,pady=(10,10))\n",
    "\n",
    "frame1 = Frame(window, background='#D2CAEC', relief=SUNKEN, bd=1)\n",
    "frame1.grid(row=3,pady=(20,10))\n",
    "\n",
    "value2 = StringVar() \n",
    "bouton1 = Radiobutton(frame1, text=\"model_simple\", variable=value2, value=\"model_simple\")\n",
    "bouton2 = Radiobutton(frame1, text=\"model_cnn\", variable=value2, value=\"model_cnn\")\n",
    "bouton3 = Radiobutton(frame1, text=\"model_lstm\", variable=value2, value=\"model_lstm\")\n",
    "bouton4 = Radiobutton(frame1, text=\"model_glove\", variable=value2, value=\"model_glove\")\n",
    "\n",
    "bouton1.grid(row=1,column=1)\n",
    "bouton2.grid(row=1,column=2)\n",
    "bouton3.grid(row=1,column=3)\n",
    "bouton4.grid(row=1,column=4)\n",
    "bouton1.select()\n",
    "\n",
    "window.columnconfigure(0, weight=1)\n",
    "\n",
    "window.mainloop()"
   ]
  },
  {
   "cell_type": "code",
   "execution_count": null,
   "metadata": {},
   "outputs": [],
   "source": []
  }
 ],
 "metadata": {
  "colab": {
   "name": "NLP_PROJET.ipynb",
   "provenance": []
  },
  "kernelspec": {
   "display_name": "Python 3",
   "language": "python",
   "name": "python3"
  },
  "language_info": {
   "codemirror_mode": {
    "name": "ipython",
    "version": 3
   },
   "file_extension": ".py",
   "mimetype": "text/x-python",
   "name": "python",
   "nbconvert_exporter": "python",
   "pygments_lexer": "ipython3",
   "version": "3.7.6"
  }
 },
 "nbformat": 4,
 "nbformat_minor": 1
}
